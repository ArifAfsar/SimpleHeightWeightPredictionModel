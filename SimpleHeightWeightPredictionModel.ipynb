{
 "cells": [
  {
   "cell_type": "code",
   "execution_count": 61,
   "id": "a50e2dcd",
   "metadata": {},
   "outputs": [
    {
     "data": {
      "text/plain": [
       "Index(['Gender', 'Height', 'Weight'], dtype='object')"
      ]
     },
     "execution_count": 61,
     "metadata": {},
     "output_type": "execute_result"
    }
   ],
   "source": [
    "import pandas as pd\n",
    "from sklearn.model_selection import train_test_split\n",
    "from sklearn.tree import DecisionTreeRegressor\n",
    "from sklearn.ensemble import RandomForestRegressor\n",
    "from sklearn.metrics import mean_absolute_error\n",
    "data = pd.read_csv(\"weight-height.csv\")\n",
    "data.columns"
   ]
  },
  {
   "cell_type": "code",
   "execution_count": 62,
   "id": "7dae9891",
   "metadata": {},
   "outputs": [],
   "source": [
    "y = data.Weight\n",
    "z=['Height']\n",
    "X=data[z]"
   ]
  },
  {
   "cell_type": "code",
   "execution_count": 63,
   "id": "1a2e8496",
   "metadata": {},
   "outputs": [
    {
     "name": "stdout",
     "output_type": "stream",
     "text": [
      "[241.893563180437, 162.3104725213, 212.7408555565, 220.042470303077, 206.349800623871]\n",
      "      Height\n",
      "0  73.847017\n",
      "1  68.781904\n",
      "2  74.110105\n",
      "3  71.730978\n",
      "4  69.881796\n"
     ]
    }
   ],
   "source": [
    "print(y.head().tolist())\n",
    "print(X.head())\n"
   ]
  },
  {
   "cell_type": "code",
   "execution_count": 64,
   "id": "0cac36f5",
   "metadata": {},
   "outputs": [],
   "source": [
    "trainX,valx,trainy,valy = train_test_split(X,y,random_state = 1)"
   ]
  },
  {
   "cell_type": "code",
   "execution_count": 67,
   "id": "96522073",
   "metadata": {},
   "outputs": [],
   "source": [
    "model1 = RandomForestRegressor(random_state = 1)\n",
    "model2 = DecisionTreeRegressor(random_state = 1)"
   ]
  },
  {
   "cell_type": "code",
   "execution_count": 68,
   "id": "a4ff7ec0",
   "metadata": {},
   "outputs": [
    {
     "data": {
      "text/plain": [
       "DecisionTreeRegressor(random_state=1)"
      ]
     },
     "execution_count": 68,
     "metadata": {},
     "output_type": "execute_result"
    }
   ],
   "source": [
    "model1.fit(trainX,trainy)\n",
    "model2.fit(trainX,trainy)"
   ]
  },
  {
   "cell_type": "code",
   "execution_count": 69,
   "id": "9a3a40b9",
   "metadata": {},
   "outputs": [
    {
     "name": "stdout",
     "output_type": "stream",
     "text": [
      "11.347470418207575\n"
     ]
    }
   ],
   "source": [
    "a = model1.predict(valx)\n",
    "print(mean_absolute_error(a,valy))"
   ]
  },
  {
   "cell_type": "code",
   "execution_count": 73,
   "id": "d13d6f15",
   "metadata": {},
   "outputs": [
    {
     "name": "stdout",
     "output_type": "stream",
     "text": [
      "mean absolute error for Decisiontree 13.261473973025987\n"
     ]
    }
   ],
   "source": [
    "b = model2.predict(valx)\n",
    "print(\"mean absolute error for {}\".format(\"Decisiontree\"),mean_absolute_error(b,valy))"
   ]
  },
  {
   "cell_type": "code",
   "execution_count": null,
   "id": "717f4390",
   "metadata": {},
   "outputs": [],
   "source": []
  }
 ],
 "metadata": {
  "kernelspec": {
   "display_name": "Python 3",
   "language": "python",
   "name": "python3"
  },
  "language_info": {
   "codemirror_mode": {
    "name": "ipython",
    "version": 3
   },
   "file_extension": ".py",
   "mimetype": "text/x-python",
   "name": "python",
   "nbconvert_exporter": "python",
   "pygments_lexer": "ipython3",
   "version": "3.8.8"
  }
 },
 "nbformat": 4,
 "nbformat_minor": 5
}
